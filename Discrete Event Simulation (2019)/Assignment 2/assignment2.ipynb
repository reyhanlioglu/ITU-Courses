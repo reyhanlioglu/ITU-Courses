{
 "cells": [
  {
   "cell_type": "code",
   "execution_count": 30,
   "metadata": {},
   "outputs": [],
   "source": [
    "from random import randint, gauss, uniform\n",
    "from matplotlib.pyplot import hist, show, xlim\n",
    "%matplotlib inline\n",
    "import matplotlib.pyplot as plt\n",
    "import numpy as np"
   ]
  },
  {
   "cell_type": "code",
   "execution_count": 43,
   "metadata": {},
   "outputs": [],
   "source": [
    "#DEFINING CONSTANT VALUES FOR THE SIMULATION\n",
    "#You can set these parameter as you wish, simulation will work properly\n",
    "    \n",
    "ROOM_CAPACITY = 40\n",
    "\n",
    "CGRT_MIN = 7    #Cabbages goes rotten time -> minimum value for uniform distribution \n",
    "CGRT_MAX = 12   #Cabbages goes rotten time -> maximum value for uniform distribution \n",
    "\n",
    "CAAT_MIN = 1     #Cabbage arrival time-> minimum value \n",
    "CAAT_MAX = 15    #Cabbage arrival time-> maximum value \n",
    "\n",
    "CUAT_MIN = 0     #Customer arrival time-> minimum value\n",
    "CUAT_MAX = 3     #Customer arrival time-> maximum value\n"
   ]
  },
  {
   "cell_type": "code",
   "execution_count": 175,
   "metadata": {},
   "outputs": [],
   "source": [
    "\n",
    "\n",
    "class Event:\n",
    "    def __init__(self, name, time, cabbageID):\n",
    "        self.name = name\n",
    "        self.time = time\n",
    "        self.cabbageID = cabbageID\n",
    "         \n",
    "\n",
    "class des:    \n",
    "    \n",
    "    #Constructor\n",
    "    def __init__(self, numberOfCustomers, initialNumberOfCabbages):\n",
    "        self.numberOfCustomers = numberOfCustomers\n",
    "        self.numberOfCabbages = initialNumberOfCabbages\n",
    "        self.cabbageID = 0\n",
    "        self.numberOfCabbagesInTime = []\n",
    "        self.roomCapacity = ROOM_CAPACITY\n",
    "        self.rottenCabbages = 0\n",
    "        self.happyCustomer = 0\n",
    "        self.unhappyCustomer = 0\n",
    "        self.roomCapacityExceeded = 0\n",
    "        \n",
    "        \n",
    "        self.cabbagesInStock = []  # This array contains the IDs of the cabbages in stock\n",
    "        self.eventList = []        # Future event list\n",
    "        \n",
    "        for i in range(0, initialNumberOfCabbages):\n",
    "            self.cabbageID += 1\n",
    "            self.eventList.append(Event(\"cabbage expires\", uniform(CGRT_MIN,CGRT_MAX), self.cabbageID))\n",
    "            self.cabbagesInStock.append(self.cabbageID)\n",
    "            self.sortEventsByTime()\n",
    "        self.numberOfCabbagesInTime.append((0, self.numberOfCabbages)) \n",
    "    \n",
    "    #Destructor\n",
    "    def __del__(self):\n",
    "        self.numberOfCabbagesInTime.clear()\n",
    "        self.eventList.clear()\n",
    "        self.cabbagesInStock.clear()\n",
    "    \n",
    "    \n",
    "    def sellOneCabbagePickedRandomly(self):\n",
    "        randomIndex = 0\n",
    "        #print(\"STOCK =\",self.cabbagesInStock)\n",
    "        if(len(self.cabbagesInStock)>1):\n",
    "            randomIndex = randint(0, len(self.cabbagesInStock)-1)\n",
    "            \n",
    "        removedID = self.cabbagesInStock[randomIndex]\n",
    "        #print(\"Removed ID =\",removedID)\n",
    "        self.cabbagesInStock.pop(randomIndex)\n",
    "        \n",
    "        #Remove this cabbage's expire event from the future event list\n",
    "        eventIndex = -1\n",
    "        for i in range(0, len(self.eventList)):\n",
    "            if(self.eventList[i].cabbageID == removedID):\n",
    "                eventIndex = i\n",
    "                break\n",
    "        if(eventIndex > -1):\n",
    "            self.eventList.pop(eventIndex)\n",
    "            self.sortEventsByTime()\n",
    "        else:\n",
    "            print(\"UNEXPECTED ERROR OCCURED\")\n",
    "    \n",
    "    \n",
    "    def sortEventsByTime(self):\n",
    "        self.eventList = sorted(self.eventList, key=lambda Event: Event.time) \n",
    "        \n",
    "                     \n",
    "    \n",
    "    def handleEvents(self, event):\n",
    "        if(event.name == \"customer arriving/shopping/leaving\"):\n",
    "            if(self.numberOfCabbages>0):\n",
    "                #Sell a cabbage\n",
    "                self.sellOneCabbagePickedRandomly()\n",
    "                self.happyCustomer += 1\n",
    "                self.numberOfCabbages -= 1\n",
    "                self.numberOfCabbagesInTime.append((event.time, self.numberOfCabbages))\n",
    "                \n",
    "                #Reorder a cabbage\n",
    "                self.eventList.append(Event(\"cabbage arrives\",event.time+uniform(CAAT_MIN,CAAT_MAX),-1))\n",
    "                self.sortEventsByTime()\n",
    "                \n",
    "            else:\n",
    "                self.unhappyCustomer += 1\n",
    "            \n",
    "            #Add next customer event to the list   \n",
    "            self.eventList.append(Event(\"customer arriving/shopping/leaving\", event.time+uniform(CUAT_MIN,CUAT_MAX),-1))\n",
    "            self.sortEventsByTime()\n",
    "            \n",
    "        elif(event.name == \"cabbage expires\"):\n",
    "            removingIndex = self.cabbagesInStock.index(event.cabbageID)\n",
    "            self.cabbagesInStock.pop(removingIndex)\n",
    "            self.numberOfCabbages -=1\n",
    "            self.rottenCabbages += 1\n",
    "            self.numberOfCabbagesInTime.append((event.time, self.numberOfCabbages))\n",
    "            \n",
    "            #Reorder a cabbage\n",
    "            self.eventList.append(Event(\"cabbage arrives\",event.time+uniform(CAAT_MIN,CAAT_MAX),-1))\n",
    "            self.sortEventsByTime()\n",
    "            \n",
    "           \n",
    "            \n",
    "        elif(event.name == \"cabbage arrives\"):\n",
    "            if(len(self.cabbagesInStock) < ROOM_CAPACITY):\n",
    "                self.cabbageID += 1\n",
    "                self.cabbagesInStock.append(self.cabbageID)\n",
    "                self.numberOfCabbages += 1\n",
    "                self.eventList.append(Event(\"cabbage expires\",event.time+uniform(CGRT_MIN,CGRT_MAX), self.cabbageID))\n",
    "                self.sortEventsByTime()\n",
    "                self.numberOfCabbagesInTime.append((event.time, self.numberOfCabbages))\n",
    "            else:\n",
    "                self.roomCapacityExceeded += 1\n",
    "            \n",
    "            \n",
    "    \n",
    "    #This method simulates all of the events and returns average number of cabbages in stock\n",
    "    def simulate(self):\n",
    "        self.eventList.append(Event(\"customer arriving/shopping/leaving\",uniform(CUAT_MIN,CUAT_MAX),-1))\n",
    "        self.sortEventsByTime()\n",
    "        while(self.happyCustomer+self.unhappyCustomer < self.numberOfCustomers):\n",
    "            self.handleEvents(self.eventList[0])\n",
    "            self.eventList.pop(0)\n",
    "            self.sortEventsByTime()\n",
    "        \n",
    "        \n",
    "        resultList = []\n",
    "        resultList.append(self.numberOfCabbages)\n",
    "        resultList.append(self.happyCustomer)\n",
    "        resultList.append(self.unhappyCustomer)\n",
    "        resultList.append(self.rottenCabbages)\n",
    "        resultList.append(self.roomCapacityExceeded)\n",
    "        return resultList\n",
    "        \n",
    "     \n",
    "    #This method prints the graph that shows changes in number of cabbages for events\n",
    "    def printGraph(self):\n",
    "        print(\"Number of remaining cabbages =\",self.numberOfCabbages)\n",
    "        print(\"Number of happy customers =\",self.happyCustomer)\n",
    "        print(\"Number of unhappy customers =\",self.unhappyCustomer)\n",
    "        print(\"Number of rotten cabbages =\",self.rottenCabbages)\n",
    "        print(\"Capacity exceeded =\",self.roomCapacityExceeded)\n",
    "        \n",
    "        timeValues, cabbageValues = zip(*self.numberOfCabbagesInTime)\n",
    "        plt.plot(timeValues, cabbageValues)\n",
    "        plt.title('SIMULATION GRAPH')\n",
    "        plt.xlabel('Days')\n",
    "        plt.ylabel('Number of Cabbages in Stock')\n",
    "        show()\n",
    "            \n",
    "    "
   ]
  },
  {
   "cell_type": "code",
   "execution_count": 228,
   "metadata": {
    "scrolled": false
   },
   "outputs": [
    {
     "name": "stdout",
     "output_type": "stream",
     "text": [
      "Number of remaining cabbages = 4\n",
      "Number of happy customers = 999\n",
      "Number of unhappy customers = 1\n",
      "Number of rotten cabbages = 432\n",
      "Capacity exceeded = 0\n"
     ]
    },
    {
     "data": {
      "image/png": "[encoded data removed]",
      "text/plain": [
       "<matplotlib.figure.Figure at 0x1942bca9780>"
      ]
     },
     "metadata": {},
     "output_type": "display_data"
    }
   ],
   "source": [
    "# Testing simulation to make sure that it is working\n",
    "#1000 is number of customers to terminate the simulation and 13 is the initial number of cabbages\n",
    "\n",
    "simulation = des(1000,13)  \n",
    "simulation.simulate()\n",
    "simulation.printGraph()\n"
   ]
  },
  {
   "cell_type": "code",
   "execution_count": 229,
   "metadata": {},
   "outputs": [],
   "source": [
    "# Simulating N times to find the expected value of unhappy customers\n",
    "\n",
    "def findExpectedValueOfUnhappyCustomers(N, customerLimit, initialValue):\n",
    "    totalValue = 0\n",
    "    for i in range(0,N):\n",
    "        simulationObject= des(customerLimit, initialValue)\n",
    "        totalValue += (simulationObject.simulate())[2];  #unhappy customers at index 2 of the return value \n",
    "        \n",
    "    return totalValue/N"
   ]
  },
  {
   "cell_type": "code",
   "execution_count": 230,
   "metadata": {},
   "outputs": [
    {
     "name": "stdout",
     "output_type": "stream",
     "text": [
      "Expected value of unhappy customers is 3.78 for 1000 customers with initial  14  cabbages\n"
     ]
    }
   ],
   "source": [
    "# Testing the function with simulation ,which has 1000 customers for termination criteria of simulation \n",
    "# and has 14 initial cabbages, 250 times\n",
    "# Note: Function takes approximately 10 seconds to finish calculations\n",
    "\n",
    "simResult = findExpectedValueOfUnhappyCustomers(250,1000,13)\n",
    "print(\"Expected value of unhappy customers is\",simResult,\"for 1000 customers with initial \",14,\" cabbages\")\n"
   ]
  },
  {
   "cell_type": "code",
   "execution_count": 237,
   "metadata": {},
   "outputs": [],
   "source": [
    "# Writing a function to give me suggestion about what should be the initial number of cabbages\n",
    "# numberOfCustomers is the first parameter(which is the termination criteria of the simulation) of function \n",
    "# unhappyCustomerMax is second parameter(which is the upper limit of expected number of unhappy customers) of function\n",
    "\n",
    "SIMULATE_N_TIMES = 250 #You can increase this value to get more accurate results, or you can decrease it to get fast results but less acurate\n",
    "\n",
    "def giveMeSuggestion(numberOfCustomers, unhappyCustomerMax):\n",
    "    for i in range(0,40):\n",
    "        if(findExpectedValueOfUnhappyCustomers(SIMULATE_N_TIMES,numberOfCustomers,i) < unhappyCustomerMax):\n",
    "            return i"
   ]
  },
  {
   "cell_type": "code",
   "execution_count": null,
   "metadata": {},
   "outputs": [],
   "source": [
    "# Finding the optimum number of initial cabbages by using giveMeSuggestion function\n",
    "# NOTE: This function takes approximately 1-2 minutes\n",
    "\n",
    "unhappyCustomersMax = 3\n",
    "suggestion = giveMeSuggestion(1000,unhappyCustomersMax)\n",
    "print(\"You should stock\",suggestion,\"cabbages initially to make sure that expected number of unhappy customers is less than\",unhappyCustomersMax, \",also to minimize the number of rotten cabbages.\")"
   ]
  },
  {
   "cell_type": "code",
   "execution_count": null,
   "metadata": {},
   "outputs": [],
   "source": []
  }
 ],
 "metadata": {
  "kernelspec": {
   "display_name": "Python 3",
   "language": "python",
   "name": "python3"
  },
  "language_info": {
   "codemirror_mode": {
    "name": "ipython",
    "version": 3
   },
   "file_extension": ".py",
   "mimetype": "text/x-python",
   "name": "python",
   "nbconvert_exporter": "python",
   "pygments_lexer": "ipython3",
   "version": "3.6.4"
  }
 },
 "nbformat": 4,
 "nbformat_minor": 2
}
