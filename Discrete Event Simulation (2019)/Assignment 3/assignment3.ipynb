{
 "cells": [
  {
   "cell_type": "markdown",
   "metadata": {},
   "source": [
    "## Emre Reyhanlıoğlu\n",
    "## 150140126\n",
    "## Assignment 3"
   ]
  },
  {
   "cell_type": "code",
   "execution_count": 36,
   "metadata": {},
   "outputs": [],
   "source": [
    "from matplotlib import pyplot as plt\n",
    "import pandas as pd\n",
    "import math"
   ]
  },
  {
   "cell_type": "markdown",
   "metadata": {},
   "source": [
    "# Part 1 \n",
    "## a) Random Number Generation:\n",
    "\n"
   ]
  },
  {
   "cell_type": "code",
   "execution_count": 2,
   "metadata": {},
   "outputs": [],
   "source": [
    "# In this part, I used Linear Congruential Generator to genere random numbers\n",
    "# Reference for LCG coefficients is below\n",
    "#http://www.ams.org/journals/mcom/1999-68-225/S0025-5718-99-00996-5/S0025-5718-99-00996-5.pdf\n",
    "\n",
    "class Random:\n",
    "    a = 741103597\n",
    "    c = 0\n",
    "    m = 2**32\n",
    "    \n",
    "    def seed(self, s):\n",
    "        Random.rand = s\n",
    "        \n",
    "    def nextDouble(self):\n",
    "        Random.rand = (Random.a * Random.rand + Random.c) % Random.m\n",
    "        return Random.rand / Random.m \n",
    "    def nextInt(self, upperBound):\n",
    "        Random.rand = (Random.a * Random.rand + Random.c) % Random.m\n",
    "        return (int)((Random.rand / Random.m)*upperBound)\n",
    "    def uniform(self, lowerBound, upperBound):\n",
    "        Random.rand = (Random.a * Random.rand + Random.c) % Random.m\n",
    "        return (Random.rand / Random.m)*(upperBound-lowerBound)+lowerBound\n",
    "    "
   ]
  },
  {
   "cell_type": "markdown",
   "metadata": {},
   "source": [
    "## First Test (generating 5k random number)"
   ]
  },
  {
   "cell_type": "code",
   "execution_count": 3,
   "metadata": {},
   "outputs": [
    {
     "data": {
      "image/png": "[encoded data removed]",
      "text/plain": [
       "<matplotlib.figure.Figure at 0x258441373c8>"
      ]
     },
     "metadata": {},
     "output_type": "display_data"
    }
   ],
   "source": [
    "random = Random()\n",
    "random.seed(1234)\n",
    "randomList = []\n",
    "for i in range(5000):\n",
    "    randomList.append(random.nextDouble())\n",
    "\n",
    "plt.hist(randomList,bins=30);"
   ]
  },
  {
   "cell_type": "markdown",
   "metadata": {},
   "source": [
    "## Second Test (generating 500k random number)"
   ]
  },
  {
   "cell_type": "code",
   "execution_count": 4,
   "metadata": {},
   "outputs": [
    {
     "data": {
      "image/png": "[encoded data removed]",
      "text/plain": [
       "<matplotlib.figure.Figure at 0x258461902b0>"
      ]
     },
     "metadata": {},
     "output_type": "display_data"
    }
   ],
   "source": [
    "random.seed(5678)\n",
    "randomList.clear()\n",
    "for i in range(500000):\n",
    "    randomList.append(random.nextDouble())\n",
    "plt.hist(randomList,bins=30);"
   ]
  },
  {
   "cell_type": "markdown",
   "metadata": {},
   "source": [
    "## Replacing any random number generator from previous assignment with mine\n",
    "### My edited simulation class\n",
    "I writed #EDITED at the end of edited lines"
   ]
  },
  {
   "cell_type": "code",
   "execution_count": 5,
   "metadata": {},
   "outputs": [],
   "source": [
    "#DEFINING CONSTANT VALUES FOR THE SIMULATION\n",
    "    \n",
    "ROOM_CAPACITY = 40\n",
    "\n",
    "CGRT_MIN = 7    #Cabbages goes rotten time -> minimum value for uniform distribution \n",
    "CGRT_MAX = 12   #Cabbages goes rotten time -> maximum value for uniform distribution \n",
    "\n",
    "CAAT_MIN = 1     #Cabbage arrival time-> minimum value \n",
    "CAAT_MAX = 15    #Cabbage arrival time-> maximum value \n",
    "\n",
    "CUAT_MIN = 0     #Customer arrival time-> minimum value\n",
    "CUAT_MAX = 3     #Customer arrival time-> maximum value\n",
    "\n",
    "class Event:\n",
    "    def __init__(self, name, time, cabbageID):\n",
    "        self.name = name\n",
    "        self.time = time\n",
    "        self.cabbageID = cabbageID\n",
    "         \n",
    "\n",
    "class CabbageShop:    \n",
    "    \n",
    "    #Constructor\n",
    "    def __init__(self, numberOfCustomers, initialNumberOfCabbages):\n",
    "        self.numberOfCustomers = numberOfCustomers\n",
    "        self.numberOfCabbages = initialNumberOfCabbages\n",
    "        self.cabbageID = 0\n",
    "        self.numberOfCabbagesInTime = []\n",
    "        self.roomCapacity = ROOM_CAPACITY\n",
    "        self.rottenCabbages = 0\n",
    "        self.happyCustomer = 0\n",
    "        self.unhappyCustomer = 0\n",
    "        self.roomCapacityExceeded = 0\n",
    "        self.cabbagesInStock = [] \n",
    "        self.eventList = []        \n",
    "        \n",
    "        for i in range(0, initialNumberOfCabbages):\n",
    "            self.cabbageID += 1\n",
    "            self.eventList.append(Event(\"cabbage expires\", random.uniform(CGRT_MIN,CGRT_MAX), self.cabbageID)) #EDITED\n",
    "            self.cabbagesInStock.append(self.cabbageID)\n",
    "            self.sortEventsByTime()\n",
    "        self.numberOfCabbagesInTime.append((0, self.numberOfCabbages)) \n",
    "    \n",
    "    #Destructor\n",
    "    def __del__(self):\n",
    "        self.numberOfCabbagesInTime.clear()\n",
    "        self.eventList.clear()\n",
    "        self.cabbagesInStock.clear()\n",
    "    \n",
    "    \n",
    "    def sellOneCabbagePickedRandomly(self):\n",
    "        randomIndex = 0\n",
    "        if(len(self.cabbagesInStock)>1):\n",
    "            randomIndex = random.nextInt(len(self.cabbagesInStock)) #EDITED\n",
    "            \n",
    "        removedID = self.cabbagesInStock[randomIndex]\n",
    "        self.cabbagesInStock.pop(randomIndex)\n",
    "        \n",
    "        eventIndex = -1\n",
    "        for i in range(0, len(self.eventList)):\n",
    "            if(self.eventList[i].cabbageID == removedID):\n",
    "                eventIndex = i\n",
    "                break\n",
    "        if(eventIndex > -1):\n",
    "            self.eventList.pop(eventIndex)\n",
    "            self.sortEventsByTime()\n",
    "        else:\n",
    "            print(\"UNEXPECTED ERROR OCCURED\")\n",
    "    \n",
    "    \n",
    "    def sortEventsByTime(self):\n",
    "        self.eventList = sorted(self.eventList, key=lambda Event: Event.time)  \n",
    "                     \n",
    "    \n",
    "    def handleEvents(self, event):\n",
    "        if(event.name == \"customer arriving/shopping/leaving\"):\n",
    "            if(self.numberOfCabbages>0):\n",
    "                #Sell a cabbage\n",
    "                self.sellOneCabbagePickedRandomly()\n",
    "                self.happyCustomer += 1\n",
    "                self.numberOfCabbages -= 1\n",
    "                self.numberOfCabbagesInTime.append((event.time, self.numberOfCabbages))\n",
    "                \n",
    "                #Reorder a cabbage\n",
    "                self.eventList.append(Event(\"cabbage arrives\",event.time+random.uniform(CAAT_MIN,CAAT_MAX),-1)) #EDITED\n",
    "                self.sortEventsByTime()\n",
    "                \n",
    "            else:\n",
    "                self.unhappyCustomer += 1\n",
    "            \n",
    "            #Add next customer event to the list   \n",
    "            self.eventList.append(Event(\"customer arriving/shopping/leaving\", event.time+random.uniform(CUAT_MIN,CUAT_MAX),-1)) #EDITED\n",
    "            self.sortEventsByTime()\n",
    "            \n",
    "        elif(event.name == \"cabbage expires\"):\n",
    "            removingIndex = self.cabbagesInStock.index(event.cabbageID)\n",
    "            self.cabbagesInStock.pop(removingIndex)\n",
    "            self.numberOfCabbages -=1\n",
    "            self.rottenCabbages += 1\n",
    "            self.numberOfCabbagesInTime.append((event.time, self.numberOfCabbages))\n",
    "            \n",
    "            #Reorder a cabbage\n",
    "            self.eventList.append(Event(\"cabbage arrives\",event.time+random.uniform(CAAT_MIN,CAAT_MAX),-1)) #EDITED\n",
    "            self.sortEventsByTime()   \n",
    "           \n",
    "            \n",
    "        elif(event.name == \"cabbage arrives\"):\n",
    "            if(len(self.cabbagesInStock) < ROOM_CAPACITY):\n",
    "                self.cabbageID += 1\n",
    "                self.cabbagesInStock.append(self.cabbageID)\n",
    "                self.numberOfCabbages += 1\n",
    "                self.eventList.append(Event(\"cabbage expires\",event.time+random.uniform(CGRT_MIN,CGRT_MAX), self.cabbageID)) #EDITED\n",
    "                self.sortEventsByTime()\n",
    "                self.numberOfCabbagesInTime.append((event.time, self.numberOfCabbages))\n",
    "            else:\n",
    "                self.roomCapacityExceeded += 1\n",
    "               \n",
    "    \n",
    "    #This method simulates all of the events and returns results array\n",
    "    def simulate(self):\n",
    "        self.eventList.append(Event(\"customer arriving/shopping/leaving\",random.uniform(CUAT_MIN,CUAT_MAX),-1)) #EDITED\n",
    "        self.sortEventsByTime()\n",
    "        while(self.happyCustomer+self.unhappyCustomer < self.numberOfCustomers):\n",
    "            self.handleEvents(self.eventList[0])\n",
    "            self.eventList.pop(0)\n",
    "            self.sortEventsByTime()\n",
    "        \n",
    "        \n",
    "        resultList = []\n",
    "        resultList.append(self.numberOfCabbages)\n",
    "        resultList.append(self.happyCustomer)\n",
    "        resultList.append(self.unhappyCustomer)\n",
    "        resultList.append(self.rottenCabbages)\n",
    "        resultList.append(self.roomCapacityExceeded)\n",
    "        return resultList\n",
    "    \n",
    "    \n",
    "     #This method prints the graph that shows changes in number of cabbages for events\n",
    "    def printGraph(self):\n",
    "        print(\"Number of remaining cabbages =\",self.numberOfCabbages)\n",
    "        print(\"Number of happy customers =\",self.happyCustomer)\n",
    "        print(\"Number of unhappy customers =\",self.unhappyCustomer)\n",
    "        print(\"Number of rotten cabbages =\",self.rottenCabbages)\n",
    "        print(\"Capacity exceeded =\",self.roomCapacityExceeded)\n",
    "        \n",
    "        timeValues, cabbageValues = zip(*self.numberOfCabbagesInTime)\n",
    "        plt.plot(timeValues, cabbageValues)\n",
    "        plt.title('SIMULATION GRAPH')\n",
    "        plt.xlabel('Days')\n",
    "        plt.ylabel('Number of Cabbages in Stock')\n",
    "        plt.show()"
   ]
  },
  {
   "cell_type": "markdown",
   "metadata": {},
   "source": [
    "## Testing my new simulation class"
   ]
  },
  {
   "cell_type": "code",
   "execution_count": 6,
   "metadata": {},
   "outputs": [
    {
     "name": "stdout",
     "output_type": "stream",
     "text": [
      "Number of remaining cabbages = 4\n",
      "Number of happy customers = 970\n",
      "Number of unhappy customers = 30\n",
      "Number of rotten cabbages = 221\n",
      "Capacity exceeded = 0\n"
     ]
    },
    {
     "data": {
      "image/png": "[encoded data removed]",
      "text/plain": [
       "<matplotlib.figure.Figure at 0x258472d27b8>"
      ]
     },
     "metadata": {},
     "output_type": "display_data"
    }
   ],
   "source": [
    "cabbageShop = CabbageShop(numberOfCustomers=1000, initialNumberOfCabbages=10)\n",
    "cabbageShop.simulate()\n",
    "cabbageShop.printGraph()"
   ]
  },
  {
   "cell_type": "markdown",
   "metadata": {},
   "source": [
    "### Comment: It is working like my old simulation, my random number generator is not bad"
   ]
  },
  {
   "cell_type": "markdown",
   "metadata": {},
   "source": [
    "#  \n",
    "# Part 2 - Input Modelling\n",
    "\n",
    "### 2.a) Examining the supplied data about customer arrival time and splittingt the file into analysis and validation sets\n"
   ]
  },
  {
   "cell_type": "code",
   "execution_count": 7,
   "metadata": {},
   "outputs": [
    {
     "name": "stdout",
     "output_type": "stream",
     "text": [
      "(1000, 1)\n"
     ]
    },
    {
     "data": {
      "text/html": [
       "<div>\n",
       "<style scoped>\n",
       "    .dataframe tbody tr th:only-of-type {\n",
       "        vertical-align: middle;\n",
       "    }\n",
       "\n",
       "    .dataframe tbody tr th {\n",
       "        vertical-align: top;\n",
       "    }\n",
       "\n",
       "    .dataframe thead th {\n",
       "        text-align: right;\n",
       "    }\n",
       "</style>\n",
       "<table border=\"1\" class=\"dataframe\">\n",
       "  <thead>\n",
       "    <tr style=\"text-align: right;\">\n",
       "      <th></th>\n",
       "      <th>0</th>\n",
       "    </tr>\n",
       "  </thead>\n",
       "  <tbody>\n",
       "    <tr>\n",
       "      <th>0</th>\n",
       "      <td>1.88</td>\n",
       "    </tr>\n",
       "    <tr>\n",
       "      <th>1</th>\n",
       "      <td>10.37</td>\n",
       "    </tr>\n",
       "    <tr>\n",
       "      <th>2</th>\n",
       "      <td>14.31</td>\n",
       "    </tr>\n",
       "    <tr>\n",
       "      <th>3</th>\n",
       "      <td>14.96</td>\n",
       "    </tr>\n",
       "    <tr>\n",
       "      <th>4</th>\n",
       "      <td>16.67</td>\n",
       "    </tr>\n",
       "  </tbody>\n",
       "</table>\n",
       "</div>"
      ],
      "text/plain": [
       "       0\n",
       "0   1.88\n",
       "1  10.37\n",
       "2  14.31\n",
       "3  14.96\n",
       "4  16.67"
      ]
     },
     "execution_count": 7,
     "metadata": {},
     "output_type": "execute_result"
    }
   ],
   "source": [
    "# Reading the file\n",
    "customerArrival= pd.read_csv(\"customer_arrivals.csv\",header=None)\n",
    "print(customerArrival.shape)\n",
    "customerArrival.head()"
   ]
  },
  {
   "cell_type": "code",
   "execution_count": 8,
   "metadata": {},
   "outputs": [
    {
     "name": "stdout",
     "output_type": "stream",
     "text": [
      "(700, 1)\n",
      "(300, 1)\n"
     ]
    }
   ],
   "source": [
    "from sklearn.model_selection import train_test_split\n",
    "arrival_test, arrival_val= train_test_split(customerArrival, test_size = 0.30)\n",
    "print(arrival_test.shape)\n",
    "print(arrival_val.shape)"
   ]
  },
  {
   "cell_type": "markdown",
   "metadata": {},
   "source": [
    "## 2.b) Visualisations of the analysis data"
   ]
  },
  {
   "cell_type": "code",
   "execution_count": 9,
   "metadata": {},
   "outputs": [
    {
     "data": {
      "image/png": "[encoded data removed]",
      "text/plain": [
       "<matplotlib.figure.Figure at 0x25848da5eb8>"
      ]
     },
     "metadata": {},
     "output_type": "display_data"
    }
   ],
   "source": [
    "arrival_test.sort_values(by=0).plot.line();\n",
    "plt.xlabel('Arrival time');\n",
    "plt.ylabel('Frequency');\n",
    "plt.show()"
   ]
  },
  {
   "cell_type": "markdown",
   "metadata": {},
   "source": [
    "###  \n",
    "### Calculating interarrival times and adding them into an array"
   ]
  },
  {
   "cell_type": "code",
   "execution_count": 10,
   "metadata": {},
   "outputs": [],
   "source": [
    "arrivalTestValues = arrival_test.sort_values(by=0).values\n",
    "size = arrivalTestValues.shape[0]\n",
    "\n",
    "interArrivalTimes = []\n",
    "\n",
    "for i in range(size-2):\n",
    "    interArrivalTimes.append(arrivalTestValues[i+1][0] - arrivalTestValues[i][0])\n"
   ]
  },
  {
   "cell_type": "markdown",
   "metadata": {},
   "source": [
    "### Plotting histogram of interarrival times"
   ]
  },
  {
   "cell_type": "code",
   "execution_count": 11,
   "metadata": {},
   "outputs": [
    {
     "data": {
      "image/png": "[encoded data removed]",
      "text/plain": [
       "<matplotlib.figure.Figure at 0x25848e2d828>"
      ]
     },
     "metadata": {},
     "output_type": "display_data"
    }
   ],
   "source": [
    "plt.hist(interArrivalTimes,bins=30);\n",
    "plt.xlabel('Interarrival time');\n",
    "plt.ylabel('Frequency');\n",
    "plt.show()"
   ]
  },
  {
   "cell_type": "markdown",
   "metadata": {},
   "source": [
    "## 2.c) Choosing an appropriate probability distribution\n",
    "###  Histogram of interarrival times looks like an exponential distribution, so that I will use Maximum Likelihood principle to fit this exponential distribution"
   ]
  },
  {
   "cell_type": "markdown",
   "metadata": {},
   "source": [
    "## 2.d) Calculating the parameters "
   ]
  },
  {
   "cell_type": "markdown",
   "metadata": {},
   "source": [
    "### I need to find lambda parameter which is (1/average)"
   ]
  },
  {
   "cell_type": "code",
   "execution_count": 12,
   "metadata": {},
   "outputs": [],
   "source": [
    "sumOfInterarrivals = 0\n",
    "for i in range(len(interArrivalTimes)):\n",
    "    sumOfInterarrivals += interArrivalTimes[i]\n",
    "\n",
    "average = sumOfInterarrivals/len(interArrivalTimes)\n",
    "lambdaParam = 1/average"
   ]
  },
  {
   "cell_type": "code",
   "execution_count": 13,
   "metadata": {},
   "outputs": [
    {
     "data": {
      "text/plain": [
       "0.23723986037516528"
      ]
     },
     "execution_count": 13,
     "metadata": {},
     "output_type": "execute_result"
    }
   ],
   "source": [
    "lambdaParam"
   ]
  },
  {
   "cell_type": "markdown",
   "metadata": {},
   "source": [
    "### I found lambda, now I need to write Inverse Transform Method then I can use it for my exponentially distributed random number generator"
   ]
  },
  {
   "cell_type": "code",
   "execution_count": 14,
   "metadata": {},
   "outputs": [],
   "source": [
    "def inverseExponentialCdf(lambdaP,F):\n",
    "    return -math.log(1-F)/lambdaP"
   ]
  },
  {
   "cell_type": "markdown",
   "metadata": {},
   "source": [
    "### After that, I can write exponentially distributed random number generator\n",
    "#### I used my random number generator(from the first part) to calculate F value"
   ]
  },
  {
   "cell_type": "code",
   "execution_count": 15,
   "metadata": {},
   "outputs": [],
   "source": [
    "def expovariate(lambdaparameter):\n",
    "    F = random.nextDouble()\n",
    "    x = inverseExponentialCdf(lambdaparameter,F)\n",
    "    return x"
   ]
  },
  {
   "cell_type": "code",
   "execution_count": 16,
   "metadata": {},
   "outputs": [
    {
     "data": {
      "text/plain": [
       "[2.088017284954903,\n",
       " 0.7815506638602766,\n",
       " 1.18863158225245,\n",
       " 1.1822003594004404,\n",
       " 0.5618128218213131,\n",
       " 4.206900049715527,\n",
       " 2.013192872444414,\n",
       " 4.4977344514753295,\n",
       " 3.658125483231181,\n",
       " 9.840226880699262]"
      ]
     },
     "execution_count": 16,
     "metadata": {},
     "output_type": "execute_result"
    }
   ],
   "source": [
    "testArray = []\n",
    "for i in range(10):\n",
    "    testArray.append(expovariate(lambdaParam))\n",
    "testArray"
   ]
  },
  {
   "cell_type": "markdown",
   "metadata": {},
   "source": [
    "## 2.e) Generating some random numbers from my exponentially distributed number generator"
   ]
  },
  {
   "cell_type": "code",
   "execution_count": 17,
   "metadata": {},
   "outputs": [
    {
     "data": {
      "image/png": "[encoded data removed]",
      "text/plain": [
       "<matplotlib.figure.Figure at 0x25844137898>"
      ]
     },
     "metadata": {},
     "output_type": "display_data"
    }
   ],
   "source": [
    "randomExpNumbers = [expovariate(lambdaParam) for i in range(5000)]\n",
    "plt.hist(randomExpNumbers,bins=30)\n",
    "plt.title('Histogram of exponentially distributed random numbers')\n",
    "plt.xlabel('Random Numbers')\n",
    "plt.ylabel('Frequency')\n",
    "plt.show()"
   ]
  },
  {
   "cell_type": "markdown",
   "metadata": {},
   "source": [
    "#  \n",
    "# Part 3 - Input Validation\n",
    "### Calculating actual inter arrival times by using validation set"
   ]
  },
  {
   "cell_type": "code",
   "execution_count": 18,
   "metadata": {},
   "outputs": [],
   "source": [
    "\n",
    "arrivalValidationValues = arrival_val.sort_values(by=0).values\n",
    "sizeVal = arrival_val.shape[0]\n",
    "\n",
    "\n",
    "interarrivalExpected = []\n",
    "for i in range(sizeVal-1):\n",
    "    interarrivalExpected.append(expovariate(lambdaParam))\n",
    "\n",
    "\n",
    "interarrivalValidation = []\n",
    "\n",
    "for i in range(sizeVal-1):\n",
    "    interarrivalValidation.append(arrivalValidationValues[i+1][0]-arrivalValidationValues[i][0])\n"
   ]
  },
  {
   "cell_type": "markdown",
   "metadata": {},
   "source": [
    "### Plotting the histogram of actual interarrival times data"
   ]
  },
  {
   "cell_type": "code",
   "execution_count": 19,
   "metadata": {},
   "outputs": [
    {
     "data": {
      "image/png": "[encoded data removed]",
      "text/plain": [
       "<matplotlib.figure.Figure at 0x25848ef2be0>"
      ]
     },
     "metadata": {},
     "output_type": "display_data"
    }
   ],
   "source": [
    "plt.hist(interarrivalValidation,bins=30)\n",
    "plt.title('Actual Interarrival Times from Validation Set')\n",
    "plt.xlabel('Random Numbers')\n",
    "plt.ylabel('Frequency')\n",
    "plt.show()\n"
   ]
  },
  {
   "cell_type": "markdown",
   "metadata": {},
   "source": [
    "### I need to use difference function to see how extremely different any data is from the expected\n",
    "$\\hat I=\\sum_i{(O_i-E_i)^2}$"
   ]
  },
  {
   "cell_type": "code",
   "execution_count": 20,
   "metadata": {},
   "outputs": [],
   "source": [
    "def diff(observed,expected):\n",
    "    assert len(expected)==len(observed)\n",
    "    diffsum = 0.0\n",
    "    for i in range(len(expected)):\n",
    "        thisdiff = (observed[i]-expected[i])**2  #/expected[i]\n",
    "        diffsum += thisdiff\n",
    "    return diffsum"
   ]
  },
  {
   "cell_type": "code",
   "execution_count": 21,
   "metadata": {},
   "outputs": [
    {
     "data": {
      "text/plain": [
       "45499.19590514479"
      ]
     },
     "execution_count": 21,
     "metadata": {},
     "output_type": "execute_result"
    }
   ],
   "source": [
    "len(interarrivalExpected)\n",
    "actualdiff=diff(interarrivalValidation,interarrivalExpected)\n",
    "actualdiff"
   ]
  },
  {
   "cell_type": "markdown",
   "metadata": {},
   "source": [
    "### This value is very high interestingly"
   ]
  },
  {
   "cell_type": "markdown",
   "metadata": {},
   "source": [
    "### Now, I need to sample from the model to see what normal values would look like in order to see if that is extreme or not"
   ]
  },
  {
   "cell_type": "code",
   "execution_count": 22,
   "metadata": {},
   "outputs": [],
   "source": [
    "def sample_from_model():\n",
    "    sampleArray = []\n",
    "    for i in range(len(interarrivalValidation)):\n",
    "        sampleArray.append(expovariate(lambdaParam))\n",
    "    sampleArray.sort()\n",
    "    return sampleArray"
   ]
  },
  {
   "cell_type": "code",
   "execution_count": 23,
   "metadata": {},
   "outputs": [
    {
     "data": {
      "text/plain": [
       "[0.010933847856344915,\n",
       " 0.027441063046591753,\n",
       " 0.02891978744251193,\n",
       " 0.030007153036052052,\n",
       " 0.032787191493213685,\n",
       " 0.03639254600293693,\n",
       " 0.05650417537659398,\n",
       " 0.07879138510182013,\n",
       " 0.11973786349658848,\n",
       " 0.13056364215441413,\n",
       " 0.17286071935034364,\n",
       " 0.19625420958531378,\n",
       " 0.22125064918746962,\n",
       " 0.22861520315717668,\n",
       " 0.2303964671954247,\n",
       " 0.23197331472497165,\n",
       " 0.233573615108403,\n",
       " 0.2773096954671358,\n",
       " 0.2948985346107973,\n",
       " 0.30372806778387623,\n",
       " 0.3042326527327737,\n",
       " 0.3108002783680854,\n",
       " 0.32518710772980297,\n",
       " 0.3263072236571222,\n",
       " 0.34119979546211476,\n",
       " 0.36018616719229624,\n",
       " 0.3657895606650027,\n",
       " 0.39226135772043247,\n",
       " 0.42016591748304455,\n",
       " 0.42817293035441467,\n",
       " 0.4360060808238379,\n",
       " 0.43788458403799424,\n",
       " 0.4452858594885067,\n",
       " 0.4592242297041208,\n",
       " 0.471587738973429,\n",
       " 0.504172647162964,\n",
       " 0.5479990034617936,\n",
       " 0.5614849817862202,\n",
       " 0.5678967368087117,\n",
       " 0.6104619639805208,\n",
       " 0.6112127116813328,\n",
       " 0.6327262062916892,\n",
       " 0.6356640320774255,\n",
       " 0.6424348516284025,\n",
       " 0.6449328772765419,\n",
       " 0.6571434442798549,\n",
       " 0.6642626291202472,\n",
       " 0.6644966860109118,\n",
       " 0.6709666113291012,\n",
       " 0.6790124400856398,\n",
       " 0.694566854864286,\n",
       " 0.7630242102332818,\n",
       " 0.7691072360996327,\n",
       " 0.7923738837147334,\n",
       " 0.7973667036870385,\n",
       " 0.7986612602667559,\n",
       " 0.8242844602933964,\n",
       " 0.8243406833641707,\n",
       " 0.864416463667244,\n",
       " 0.8790645935096261,\n",
       " 0.8834601180952043,\n",
       " 0.8935482653426847,\n",
       " 0.8962542766517794,\n",
       " 0.9167630052086192,\n",
       " 0.9197603283780872,\n",
       " 0.9313900242945609,\n",
       " 0.9415249327101176,\n",
       " 0.975213819967397,\n",
       " 0.9891245465160293,\n",
       " 1.0043488991188265,\n",
       " 1.024035769504765,\n",
       " 1.0579843588506042,\n",
       " 1.1041394014376011,\n",
       " 1.1111531579112828,\n",
       " 1.136564400400347,\n",
       " 1.146286613012006,\n",
       " 1.176671177134552,\n",
       " 1.181210580743903,\n",
       " 1.1889581047882487,\n",
       " 1.2115219604749687,\n",
       " 1.265268513638143,\n",
       " 1.2777534456474877,\n",
       " 1.2940633030538085,\n",
       " 1.3035813783108416,\n",
       " 1.320139181852893,\n",
       " 1.3797016859140891,\n",
       " 1.4335963383442092,\n",
       " 1.4375072251912426,\n",
       " 1.4387992825852023,\n",
       " 1.5000370790309936,\n",
       " 1.5058923616876945,\n",
       " 1.541645686540615,\n",
       " 1.5742983667934354,\n",
       " 1.5949254117894072,\n",
       " 1.5951564631654809,\n",
       " 1.5979714076920213,\n",
       " 1.6202877140658754,\n",
       " 1.643472213411342,\n",
       " 1.650197672813528,\n",
       " 1.6511424841721614,\n",
       " 1.6602511708940022,\n",
       " 1.681041716104772,\n",
       " 1.6825308811646629,\n",
       " 1.6829279121778533,\n",
       " 1.708815040303864,\n",
       " 1.758441464104158,\n",
       " 1.7822753038556187,\n",
       " 1.7996285360192175,\n",
       " 1.8213655519152598,\n",
       " 1.8748368681833536,\n",
       " 1.9010897149515753,\n",
       " 1.9199315332019313,\n",
       " 2.0171016698261326,\n",
       " 2.0234370136955517,\n",
       " 2.059810814943447,\n",
       " 2.140607068673016,\n",
       " 2.1769865642219792,\n",
       " 2.190692260600392,\n",
       " 2.1971473126202623,\n",
       " 2.2229787964801737,\n",
       " 2.248927352364707,\n",
       " 2.268286508375018,\n",
       " 2.2847458321361622,\n",
       " 2.3200071672096896,\n",
       " 2.3410133462183933,\n",
       " 2.38435901691523,\n",
       " 2.3910940946097172,\n",
       " 2.444417992045376,\n",
       " 2.448200470133753,\n",
       " 2.457105625454349,\n",
       " 2.472667311884272,\n",
       " 2.4836315993205536,\n",
       " 2.4949592115907104,\n",
       " 2.4976537889009394,\n",
       " 2.5094563721890784,\n",
       " 2.53214252608478,\n",
       " 2.5463675344245,\n",
       " 2.5630493808011092,\n",
       " 2.5643380328445473,\n",
       " 2.568693366536137,\n",
       " 2.574577001979987,\n",
       " 2.677024144168103,\n",
       " 2.687654674669379,\n",
       " 2.701805376320281,\n",
       " 2.704048579991426,\n",
       " 2.737017829650333,\n",
       " 2.7709433700072483,\n",
       " 2.785948885798809,\n",
       " 2.7867050640702424,\n",
       " 2.845963308540289,\n",
       " 2.860992582335466,\n",
       " 2.8627891305156328,\n",
       " 2.8903796667391757,\n",
       " 2.9800424087546755,\n",
       " 3.044128769033086,\n",
       " 3.090503190282972,\n",
       " 3.1534108976260584,\n",
       " 3.183130306910575,\n",
       " 3.216377635778981,\n",
       " 3.2685140037426605,\n",
       " 3.3964173927926877,\n",
       " 3.4152023336651416,\n",
       " 3.424304822334568,\n",
       " 3.4428437371297416,\n",
       " 3.4569217247827977,\n",
       " 3.4862464943288423,\n",
       " 3.5187254289558987,\n",
       " 3.5343071475679397,\n",
       " 3.541269816228461,\n",
       " 3.6048835963961268,\n",
       " 3.617720829444418,\n",
       " 3.640398907461405,\n",
       " 3.6674061309782586,\n",
       " 3.7291239276491144,\n",
       " 3.8000001613095344,\n",
       " 3.8085818805009994,\n",
       " 3.815289565006223,\n",
       " 3.822027829445448,\n",
       " 3.967780436215171,\n",
       " 4.002751800376004,\n",
       " 4.061842680307714,\n",
       " 4.110054724936787,\n",
       " 4.111724899722931,\n",
       " 4.259304218717943,\n",
       " 4.283563089060969,\n",
       " 4.34148807320012,\n",
       " 4.349737712650895,\n",
       " 4.430022656867909,\n",
       " 4.4514309767979725,\n",
       " 4.464344946662539,\n",
       " 4.47105715569791,\n",
       " 4.51858552739212,\n",
       " 4.537279395005631,\n",
       " 4.554521576259302,\n",
       " 4.584601845251132,\n",
       " 4.5914290827161715,\n",
       " 4.615852075636469,\n",
       " 4.623352389646736,\n",
       " 4.6316652512949545,\n",
       " 4.681887785472215,\n",
       " 4.682188885659868,\n",
       " 4.70406921749893,\n",
       " 4.715519485565054,\n",
       " 4.754717410491181,\n",
       " 4.758137962994791,\n",
       " 4.760381108586698,\n",
       " 4.81587880389283,\n",
       " 4.850466779679671,\n",
       " 4.8583132209263615,\n",
       " 4.891950928273425,\n",
       " 4.89936290450399,\n",
       " 4.900899741806759,\n",
       " 4.920474846995175,\n",
       " 4.940158494163285,\n",
       " 5.081989484242345,\n",
       " 5.092584603627753,\n",
       " 5.162594584594884,\n",
       " 5.245307216150193,\n",
       " 5.288134437223304,\n",
       " 5.326513804723519,\n",
       " 5.5063973872383265,\n",
       " 5.536068284277138,\n",
       " 5.546059973581489,\n",
       " 5.559005117616651,\n",
       " 5.614644622135397,\n",
       " 5.630190137757766,\n",
       " 5.736271072209036,\n",
       " 5.9200176941713085,\n",
       " 6.0221847555066095,\n",
       " 6.0662910850203415,\n",
       " 6.2112606338584895,\n",
       " 6.233985450630965,\n",
       " 6.277031839486981,\n",
       " 6.432585303312708,\n",
       " 6.519233131950829,\n",
       " 6.601399037534274,\n",
       " 6.731619964651015,\n",
       " 6.750763028100441,\n",
       " 6.821887465566912,\n",
       " 6.933321390178867,\n",
       " 6.97250238931097,\n",
       " 7.034076895083071,\n",
       " 7.127901744823179,\n",
       " 7.1605540945272725,\n",
       " 7.162285092489653,\n",
       " 7.1857090713361,\n",
       " 7.26772064790492,\n",
       " 7.2801384228185295,\n",
       " 7.3652302665197835,\n",
       " 7.456801800549542,\n",
       " 7.50807343564342,\n",
       " 7.554764572867157,\n",
       " 7.639996752112129,\n",
       " 7.685262773343784,\n",
       " 7.797969186257323,\n",
       " 7.829523546211943,\n",
       " 8.001263085780002,\n",
       " 8.004300529444029,\n",
       " 8.031276940829958,\n",
       " 8.062193325581074,\n",
       " 8.101622635327924,\n",
       " 8.121937526661139,\n",
       " 8.334123763947478,\n",
       " 8.4168953047708,\n",
       " 8.537805403178384,\n",
       " 8.543374167779534,\n",
       " 8.820144295000528,\n",
       " 8.91971197891034,\n",
       " 9.220323509353424,\n",
       " 9.522666413281302,\n",
       " 9.523479599560815,\n",
       " 9.874998401459726,\n",
       " 9.88103081370287,\n",
       " 10.366511893070479,\n",
       " 10.736970842459069,\n",
       " 10.967454897701247,\n",
       " 11.097022658842617,\n",
       " 11.113204151558504,\n",
       " 11.119150018343092,\n",
       " 11.30689909434926,\n",
       " 11.575745956510023,\n",
       " 11.702893486265403,\n",
       " 12.019039334509946,\n",
       " 12.171570621688138,\n",
       " 12.270066474205048,\n",
       " 12.846962551971579,\n",
       " 13.230735449271995,\n",
       " 14.091312579350953,\n",
       " 14.534856265535588,\n",
       " 16.594463679438885,\n",
       " 16.6455683797724,\n",
       " 16.701229218906814,\n",
       " 17.180125946534485,\n",
       " 18.839309509903106,\n",
       " 19.673829097278784,\n",
       " 20.44649881213492,\n",
       " 22.068837259009523,\n",
       " 23.70351289925559,\n",
       " 23.889623764270357]"
      ]
     },
     "execution_count": 23,
     "metadata": {},
     "output_type": "execute_result"
    }
   ],
   "source": [
    "sample_from_model()"
   ]
  },
  {
   "cell_type": "code",
   "execution_count": 24,
   "metadata": {},
   "outputs": [
    {
     "data": {
      "image/png": "[encoded data removed]",
      "text/plain": [
       "<matplotlib.figure.Figure at 0x25844180390>"
      ]
     },
     "metadata": {},
     "output_type": "display_data"
    }
   ],
   "source": [
    "plt.hist(sample_from_model(),bins=30)\n",
    "plt.title('Samles from model')\n",
    "plt.xlabel('Random Numbers')\n",
    "plt.ylabel('Frequency')\n",
    "plt.show()"
   ]
  },
  {
   "cell_type": "code",
   "execution_count": 25,
   "metadata": {},
   "outputs": [],
   "source": [
    "def sample_difference_value():\n",
    "    sample = sample_from_model()\n",
    "    d = diff(sample,interarrivalExpected)\n",
    "    return d"
   ]
  },
  {
   "cell_type": "code",
   "execution_count": 26,
   "metadata": {},
   "outputs": [
    {
     "data": {
      "text/plain": [
       "8527.582340063085"
      ]
     },
     "execution_count": 26,
     "metadata": {},
     "output_type": "execute_result"
    }
   ],
   "source": [
    "sample_difference_value()"
   ]
  },
  {
   "cell_type": "code",
   "execution_count": 27,
   "metadata": {},
   "outputs": [],
   "source": [
    "sample_differences = [sample_difference_value() for i in range(1000)]"
   ]
  },
  {
   "cell_type": "code",
   "execution_count": 28,
   "metadata": {},
   "outputs": [
    {
     "data": {
      "image/png": "[encoded data removed]",
      "text/plain": [
       "<matplotlib.figure.Figure at 0x258472e9978>"
      ]
     },
     "metadata": {},
     "output_type": "display_data"
    }
   ],
   "source": [
    "_=plt.hist(sample_differences,bins=30)\n",
    "_=plt.axvline(actualdiff,color='r',linestyle='dashed')"
   ]
  },
  {
   "cell_type": "code",
   "execution_count": 29,
   "metadata": {},
   "outputs": [
    {
     "data": {
      "text/plain": [
       "0.0"
      ]
     },
     "execution_count": 29,
     "metadata": {},
     "output_type": "execute_result"
    }
   ],
   "source": [
    "sample_differences_more_than_actual = [s for s in sample_differences if s>actualdiff]\n",
    "num_sample_differences_more_than_actual=len(sample_differences_more_than_actual)\n",
    "p=num_sample_differences_more_than_actual/len(sample_differences)\n",
    "p"
   ]
  },
  {
   "cell_type": "markdown",
   "metadata": {},
   "source": [
    "### Comments: In this part, I tried to follow the example in the course files but I am not sure which part is wrong. I think my expected data is wrong. According to the results, I should reject the null hypothesis with this value, but histograms were similar."
   ]
  },
  {
   "cell_type": "markdown",
   "metadata": {},
   "source": [
    "### Now, I will try with chi square function"
   ]
  },
  {
   "cell_type": "code",
   "execution_count": 30,
   "metadata": {},
   "outputs": [
    {
     "data": {
      "text/plain": [
       "Power_divergenceResult(statistic=6218.373388539836, pvalue=0.0)"
      ]
     },
     "execution_count": 30,
     "metadata": {},
     "output_type": "execute_result"
    }
   ],
   "source": [
    "from scipy.stats import chisquare\n",
    "\n",
    "chisquare(interarrivalExpected, interarrivalValidation)\n"
   ]
  },
  {
   "cell_type": "markdown",
   "metadata": {},
   "source": [
    "# Part 4 - Input/Output Validation"
   ]
  },
  {
   "cell_type": "code",
   "execution_count": 31,
   "metadata": {},
   "outputs": [
    {
     "name": "stdout",
     "output_type": "stream",
     "text": [
      "(1000, 1)\n"
     ]
    },
    {
     "data": {
      "text/html": [
       "<div>\n",
       "<style scoped>\n",
       "    .dataframe tbody tr th:only-of-type {\n",
       "        vertical-align: middle;\n",
       "    }\n",
       "\n",
       "    .dataframe tbody tr th {\n",
       "        vertical-align: top;\n",
       "    }\n",
       "\n",
       "    .dataframe thead th {\n",
       "        text-align: right;\n",
       "    }\n",
       "</style>\n",
       "<table border=\"1\" class=\"dataframe\">\n",
       "  <thead>\n",
       "    <tr style=\"text-align: right;\">\n",
       "      <th></th>\n",
       "      <th>0</th>\n",
       "    </tr>\n",
       "  </thead>\n",
       "  <tbody>\n",
       "    <tr>\n",
       "      <th>0</th>\n",
       "      <td>1.88</td>\n",
       "    </tr>\n",
       "    <tr>\n",
       "      <th>1</th>\n",
       "      <td>10.37</td>\n",
       "    </tr>\n",
       "    <tr>\n",
       "      <th>2</th>\n",
       "      <td>14.31</td>\n",
       "    </tr>\n",
       "    <tr>\n",
       "      <th>3</th>\n",
       "      <td>14.96</td>\n",
       "    </tr>\n",
       "    <tr>\n",
       "      <th>4</th>\n",
       "      <td>16.67</td>\n",
       "    </tr>\n",
       "  </tbody>\n",
       "</table>\n",
       "</div>"
      ],
      "text/plain": [
       "       0\n",
       "0   1.88\n",
       "1  10.37\n",
       "2  14.31\n",
       "3  14.96\n",
       "4  16.67"
      ]
     },
     "execution_count": 31,
     "metadata": {},
     "output_type": "execute_result"
    }
   ],
   "source": [
    "# Reading the file\n",
    "experiments= pd.read_csv(\"experiments.csv\",header=None)\n",
    "print(customerArrival.shape)\n",
    "customerArrival.head()"
   ]
  },
  {
   "cell_type": "code",
   "execution_count": 32,
   "metadata": {},
   "outputs": [
    {
     "name": "stdout",
     "output_type": "stream",
     "text": [
      "Simulation Happy Customers  [933, 973, 976]\n",
      "Validation Happy Customers [968, 993, 991]\n",
      "Simulation Unhappy Customers  [67, 27, 24]\n",
      "Validation Unhappy Customers [32, 7, 9]\n",
      "Simulation Rotten Cabbages  [104, 169, 227]\n",
      "Validation Rotten Cabbages [606, 706, 952]\n"
     ]
    }
   ],
   "source": [
    "# cabbageShop.simulate() returns results array and it contains values below;\n",
    "# results[1] <- happy customer  \n",
    "# results[2] <- unhappy customer\n",
    "# results[3] <- rotten cabbages\n",
    "\n",
    "\n",
    "happyCustomers = []\n",
    "unhappyCustomers = []\n",
    "rottenCabbages = []\n",
    "\n",
    "valHappyCustomers = []\n",
    "valUnhappyCustomers = []\n",
    "valRottenCabbages = []\n",
    "\n",
    "for i in range(1,experiments.shape[0]):\n",
    "    cabbageShop = CabbageShop(1000, int(experiments.values[i][1]))\n",
    "    results = cabbageShop.simulate()\n",
    "    happyCustomers.append(results[1])\n",
    "    unhappyCustomers.append(results[2])\n",
    "    rottenCabbages.append(results[3])\n",
    "    valHappyCustomers.append(int(experiments.values[i][2]))\n",
    "    valUnhappyCustomers.append(int(experiments.values[i][3]))\n",
    "    valRottenCabbages.append(int(experiments.values[i][4]))\n",
    "    \n",
    "\n",
    "\n",
    "print('Simulation Happy Customers ',happyCustomers)\n",
    "print('Validation Happy Customers',valHappyCustomers)\n",
    "\n",
    "print('Simulation Unhappy Customers ',unhappyCustomers)\n",
    "print('Validation Unhappy Customers',valUnhappyCustomers)\n",
    "\n",
    "print('Simulation Rotten Cabbages ',rottenCabbages)\n",
    "print('Validation Rotten Cabbages',valRottenCabbages)\n",
    "\n"
   ]
  },
  {
   "cell_type": "markdown",
   "metadata": {},
   "source": [
    "### My outputs are different than experiments"
   ]
  },
  {
   "cell_type": "markdown",
   "metadata": {},
   "source": [
    "# Part 5 - Experimentation results\n",
    "### Lets plot the results"
   ]
  },
  {
   "cell_type": "markdown",
   "metadata": {},
   "source": [
    "### Number of happy customers:"
   ]
  },
  {
   "cell_type": "code",
   "execution_count": 33,
   "metadata": {},
   "outputs": [
    {
     "data": {
      "image/png": "[encoded data removed]",
      "text/plain": [
       "<matplotlib.figure.Figure at 0x258490d19b0>"
      ]
     },
     "metadata": {},
     "output_type": "display_data"
    }
   ],
   "source": [
    "plt.plot(happyCustomers,'g*', valHappyCustomers, 'ro')\n",
    "plt.show()"
   ]
  },
  {
   "cell_type": "markdown",
   "metadata": {},
   "source": [
    "### Green stars are number of happy customers from my simulation and red points are experiment results of it\n",
    "##   \n",
    "### Number of unhappy customers:"
   ]
  },
  {
   "cell_type": "code",
   "execution_count": 34,
   "metadata": {},
   "outputs": [
    {
     "data": {
      "image/png": "[encoded data removed]",
      "text/plain": [
       "<matplotlib.figure.Figure at 0x2584916d198>"
      ]
     },
     "metadata": {},
     "output_type": "display_data"
    }
   ],
   "source": [
    "plt.plot(unhappyCustomers,'g*', valUnhappyCustomers, 'ro')\n",
    "plt.show()"
   ]
  },
  {
   "cell_type": "markdown",
   "metadata": {},
   "source": [
    "### Green stars are number of unhappy customers from my simulation and red points are experiment results of it\n",
    "##  \n",
    "### Number of rotten cabbages:"
   ]
  },
  {
   "cell_type": "code",
   "execution_count": 35,
   "metadata": {},
   "outputs": [
    {
     "data": {
      "image/png": "[encoded data removed]",
      "text/plain": [
       "<matplotlib.figure.Figure at 0x258491cf9e8>"
      ]
     },
     "metadata": {},
     "output_type": "display_data"
    }
   ],
   "source": [
    "plt.plot(rottenCabbages,'g*', valRottenCabbages, 'ro')\n",
    "plt.show()"
   ]
  },
  {
   "cell_type": "markdown",
   "metadata": {},
   "source": [
    "### Green stars are number of cabbages from my simulation and red points are experiment results of it"
   ]
  },
  {
   "cell_type": "code",
   "execution_count": null,
   "metadata": {},
   "outputs": [],
   "source": []
  }
 ],
 "metadata": {
  "kernelspec": {
   "display_name": "Python 3",
   "language": "python",
   "name": "python3"
  },
  "language_info": {
   "codemirror_mode": {
    "name": "ipython",
    "version": 3
   },
   "file_extension": ".py",
   "mimetype": "text/x-python",
   "name": "python",
   "nbconvert_exporter": "python",
   "pygments_lexer": "ipython3",
   "version": "3.6.4"
  }
 },
 "nbformat": 4,
 "nbformat_minor": 2
}
